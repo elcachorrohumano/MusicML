{
 "cells": [
  {
   "cell_type": "markdown",
   "metadata": {},
   "source": [
    "- Time frames: 642\n",
    "- Hop length = 512\n",
    "- Sampling rate = 22050 Hz\n",
    "\n",
    "$Duration= \\frac{642×512}{22050} ≈14.90seconds$"
   ]
  },
  {
   "cell_type": "markdown",
   "metadata": {},
   "source": []
  }
 ],
 "metadata": {
  "language_info": {
   "name": "python"
  }
 },
 "nbformat": 4,
 "nbformat_minor": 2
}
