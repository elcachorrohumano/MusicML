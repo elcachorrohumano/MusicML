{
 "cells": [
  {
   "cell_type": "code",
   "execution_count": 1,
   "metadata": {},
   "outputs": [
    {
     "name": "stdout",
     "output_type": "stream",
     "text": [
      "like\n",
      "0    0.502051\n",
      "1    0.497949\n",
      "Name: proportion, dtype: float64\n",
      "like\n",
      "0    0.502152\n",
      "1    0.497848\n",
      "Name: proportion, dtype: float64\n",
      "like\n",
      "0    0.501433\n",
      "1    0.498567\n",
      "Name: proportion, dtype: float64\n"
     ]
    }
   ],
   "source": [
    "import pandas as pd\n",
    "\n",
    "train = pd.read_csv('/Users/elcachorrohumano/workspace/MusicNN/data/train/train.csv')\n",
    "test = pd.read_csv('/Users/elcachorrohumano/workspace/MusicNN/data/test/test.csv')\n",
    "validation = pd.read_csv('/Users/elcachorrohumano/workspace/MusicNN/data/validation/validation.csv')\n",
    "\n",
    "print(train['like'].value_counts(normalize=True))\n",
    "print(validation['like'].value_counts(normalize=True))\n",
    "print(test['like'].value_counts(normalize=True))\n"
   ]
  }
 ],
 "metadata": {
  "kernelspec": {
   "display_name": "music_env",
   "language": "python",
   "name": "python3"
  },
  "language_info": {
   "codemirror_mode": {
    "name": "ipython",
    "version": 3
   },
   "file_extension": ".py",
   "mimetype": "text/x-python",
   "name": "python",
   "nbconvert_exporter": "python",
   "pygments_lexer": "ipython3",
   "version": "3.12.2"
  }
 },
 "nbformat": 4,
 "nbformat_minor": 2
}
